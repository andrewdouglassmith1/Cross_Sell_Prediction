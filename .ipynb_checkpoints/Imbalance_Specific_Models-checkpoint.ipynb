{
 "cells": [
  {
   "cell_type": "markdown",
   "id": "covered-danger",
   "metadata": {},
   "source": [
    "### Calibration of Logistic"
   ]
  },
  {
   "cell_type": "code",
   "execution_count": 2,
   "id": "protected-stuff",
   "metadata": {},
   "outputs": [],
   "source": [
    "## confighttp://localhost:8888/notebooks/Documents/Metis/Cross_Sell_Prediction/Probability_Calibration_Imbalanced.ipynb#\n",
    "import numpy as np\n",
    "import pandas as pd\n",
    "import matplotlib.pyplot as plt\n",
    "import seaborn as sns\n",
    "import io, os, sys, types, gc, re\n",
    "from sklearn import preprocessing\n",
    "from sklearn.linear_model import LogisticRegression\n",
    "from sklearn.model_selection import train_test_split\n",
    "from sklearn.metrics import average_precision_score,confusion_matrix,precision_score,recall_score,mean_squared_error, precision_recall_curve, cohen_kappa_score, f1_score, log_loss\n",
    "from imblearn.under_sampling import RandomUnderSampler\n",
    "rus = RandomUnderSampler(random_state=42)\n",
    "from imblearn.ensemble import BalancedBaggingClassifier\n",
    "from sklearn.decomposition import PCA\n",
    "pca = PCA(n_components=1,random_state=42)\n",
    "from matplotlib import pyplot\n",
    "from sklearn.preprocessing import StandardScaler\n",
    "from numpy import mean\n",
    "from sklearn.datasets import make_classification\n",
    "from sklearn.model_selection import cross_val_score\n",
    "from sklearn.model_selection import RepeatedStratifiedKFold\n",
    "from imblearn.ensemble import BalancedRandomForestClassifier\n",
    "from sklearn.metrics import accuracy_score\n",
    "from sklearn.ensemble import RandomForestClassifier\n",
    "from imblearn.ensemble import BalancedBaggingClassifier\n",
    "from sklearn.metrics import fbeta_score\n",
    "\n",
    "\n",
    "\n",
    "def make_prediction(model,X,threshold):\n",
    "    y_pred = model.predict_proba(X)\n",
    "    y_predicted = np.where(y_pred[:,1]>=threshold,1,0)\n",
    "    return y_pred, y_predicted\n",
    "\n",
    "def evaluation(true, pred):\n",
    "    print('F1-score: ' + str(round(f1_score(true,pred),4)), '\\n'\n",
    "    'Precision: ' + str(round(precision_score(true,pred),4)), '\\n'\n",
    "    'Recall: ' + str(round(recall_score(true,pred),4)), '\\n'\n",
    "    'Log loss: ' + str(round(log_loss(true,pred),4)), '\\n'\n",
    "    'Cohen-Kappa: ' + str(round(cohen_kappa_score(true,pred),4)), '\\n' \n",
    "    'Confusion matrix:' + '\\n' + str(confusion_matrix(true,pred)))"
   ]
  },
  {
   "cell_type": "code",
   "execution_count": 3,
   "id": "structural-index",
   "metadata": {},
   "outputs": [
    {
     "data": {
      "text/html": [
       "<div>\n",
       "<style scoped>\n",
       "    .dataframe tbody tr th:only-of-type {\n",
       "        vertical-align: middle;\n",
       "    }\n",
       "\n",
       "    .dataframe tbody tr th {\n",
       "        vertical-align: top;\n",
       "    }\n",
       "\n",
       "    .dataframe thead th {\n",
       "        text-align: right;\n",
       "    }\n",
       "</style>\n",
       "<table border=\"1\" class=\"dataframe\">\n",
       "  <thead>\n",
       "    <tr style=\"text-align: right;\">\n",
       "      <th></th>\n",
       "      <th>id</th>\n",
       "      <th>Gender</th>\n",
       "      <th>Age</th>\n",
       "      <th>Driving_License</th>\n",
       "      <th>Region_Code</th>\n",
       "      <th>Previously_Insured</th>\n",
       "      <th>Vehicle_Age</th>\n",
       "      <th>Vehicle_Damage</th>\n",
       "      <th>Annual_Premium</th>\n",
       "      <th>Policy_Sales_Channel</th>\n",
       "      <th>Vintage</th>\n",
       "      <th>Response</th>\n",
       "    </tr>\n",
       "  </thead>\n",
       "  <tbody>\n",
       "    <tr>\n",
       "      <th>0</th>\n",
       "      <td>1</td>\n",
       "      <td>Male</td>\n",
       "      <td>44</td>\n",
       "      <td>1</td>\n",
       "      <td>28.0</td>\n",
       "      <td>0</td>\n",
       "      <td>&gt; 2 Years</td>\n",
       "      <td>Yes</td>\n",
       "      <td>40454.0</td>\n",
       "      <td>26.0</td>\n",
       "      <td>217</td>\n",
       "      <td>1</td>\n",
       "    </tr>\n",
       "    <tr>\n",
       "      <th>1</th>\n",
       "      <td>2</td>\n",
       "      <td>Male</td>\n",
       "      <td>76</td>\n",
       "      <td>1</td>\n",
       "      <td>3.0</td>\n",
       "      <td>0</td>\n",
       "      <td>1-2 Year</td>\n",
       "      <td>No</td>\n",
       "      <td>33536.0</td>\n",
       "      <td>26.0</td>\n",
       "      <td>183</td>\n",
       "      <td>0</td>\n",
       "    </tr>\n",
       "    <tr>\n",
       "      <th>2</th>\n",
       "      <td>3</td>\n",
       "      <td>Male</td>\n",
       "      <td>47</td>\n",
       "      <td>1</td>\n",
       "      <td>28.0</td>\n",
       "      <td>0</td>\n",
       "      <td>&gt; 2 Years</td>\n",
       "      <td>Yes</td>\n",
       "      <td>38294.0</td>\n",
       "      <td>26.0</td>\n",
       "      <td>27</td>\n",
       "      <td>1</td>\n",
       "    </tr>\n",
       "  </tbody>\n",
       "</table>\n",
       "</div>"
      ],
      "text/plain": [
       "   id Gender  Age  Driving_License  Region_Code  Previously_Insured  \\\n",
       "0   1   Male   44                1         28.0                   0   \n",
       "1   2   Male   76                1          3.0                   0   \n",
       "2   3   Male   47                1         28.0                   0   \n",
       "\n",
       "  Vehicle_Age Vehicle_Damage  Annual_Premium  Policy_Sales_Channel  Vintage  \\\n",
       "0   > 2 Years            Yes         40454.0                  26.0      217   \n",
       "1    1-2 Year             No         33536.0                  26.0      183   \n",
       "2   > 2 Years            Yes         38294.0                  26.0       27   \n",
       "\n",
       "   Response  \n",
       "0         1  \n",
       "1         0  \n",
       "2         1  "
      ]
     },
     "execution_count": 3,
     "metadata": {},
     "output_type": "execute_result"
    }
   ],
   "source": [
    "# import data\n",
    "path = 'raw Data/'\n",
    "df_train = pd.read_csv(path + 'train.csv')\n",
    "df_train.head(3)"
   ]
  },
  {
   "cell_type": "code",
   "execution_count": 4,
   "id": "duplicate-affair",
   "metadata": {},
   "outputs": [
    {
     "data": {
      "image/png": "[encoded data removed]",
      "text/plain": [
       "<Figure size 1440x720 with 4 Axes>"
      ]
     },
     "metadata": {
      "needs_background": "light"
     },
     "output_type": "display_data"
    }
   ],
   "source": [
    "# Determine features to normalize vs. standardize\n",
    "# Plotting the histograms of each variable\n",
    "df_distribution_check = df_train[['Age','Annual_Premium','Vintage']].copy()\n",
    "df_distribution_check.hist(alpha=0.5, figsize=(20, 10))\n",
    "pyplot.show()"
   ]
  },
  {
   "cell_type": "code",
   "execution_count": 5,
   "id": "bright-effect",
   "metadata": {},
   "outputs": [],
   "source": [
    "# Seperate features from label\n",
    "\n",
    "X = df_train"
   ]
  },
  {
   "cell_type": "code",
   "execution_count": 6,
   "id": "applied-lewis",
   "metadata": {},
   "outputs": [],
   "source": [
    "# Get dummy varialbes\n",
    "X = pd.get_dummies(X,columns = ['Gender','Region_Code','Vehicle_Age','Vehicle_Damage','Policy_Sales_Channel'],drop_first=True)"
   ]
  },
  {
   "cell_type": "code",
   "execution_count": 7,
   "id": "primary-calgary",
   "metadata": {},
   "outputs": [],
   "source": [
    "# #Split data into 3: 60% train, 20% validation, 20% test\n",
    "tr, te = train_test_split(X, test_size=0.2)\n",
    "tr, val = train_test_split(X, test_size=0.25)"
   ]
  },
  {
   "cell_type": "code",
   "execution_count": 8,
   "id": "viral-richardson",
   "metadata": {},
   "outputs": [
    {
     "data": {
      "text/html": [
       "<div>\n",
       "<style scoped>\n",
       "    .dataframe tbody tr th:only-of-type {\n",
       "        vertical-align: middle;\n",
       "    }\n",
       "\n",
       "    .dataframe tbody tr th {\n",
       "        vertical-align: top;\n",
       "    }\n",
       "\n",
       "    .dataframe thead th {\n",
       "        text-align: right;\n",
       "    }\n",
       "</style>\n",
       "<table border=\"1\" class=\"dataframe\">\n",
       "  <thead>\n",
       "    <tr style=\"text-align: right;\">\n",
       "      <th></th>\n",
       "      <th>id</th>\n",
       "      <th>Age</th>\n",
       "      <th>Driving_License</th>\n",
       "      <th>Previously_Insured</th>\n",
       "      <th>Annual_Premium</th>\n",
       "      <th>Vintage</th>\n",
       "      <th>Response</th>\n",
       "      <th>Gender_Male</th>\n",
       "      <th>Region_Code_1.0</th>\n",
       "      <th>Region_Code_2.0</th>\n",
       "      <th>...</th>\n",
       "      <th>Policy_Sales_Channel_152.0</th>\n",
       "      <th>Policy_Sales_Channel_153.0</th>\n",
       "      <th>Policy_Sales_Channel_154.0</th>\n",
       "      <th>Policy_Sales_Channel_155.0</th>\n",
       "      <th>Policy_Sales_Channel_156.0</th>\n",
       "      <th>Policy_Sales_Channel_157.0</th>\n",
       "      <th>Policy_Sales_Channel_158.0</th>\n",
       "      <th>Policy_Sales_Channel_159.0</th>\n",
       "      <th>Policy_Sales_Channel_160.0</th>\n",
       "      <th>Policy_Sales_Channel_163.0</th>\n",
       "    </tr>\n",
       "  </thead>\n",
       "  <tbody>\n",
       "    <tr>\n",
       "      <th>27139</th>\n",
       "      <td>27140</td>\n",
       "      <td>58</td>\n",
       "      <td>1</td>\n",
       "      <td>1</td>\n",
       "      <td>31390.0</td>\n",
       "      <td>101</td>\n",
       "      <td>0</td>\n",
       "      <td>1</td>\n",
       "      <td>0</td>\n",
       "      <td>0</td>\n",
       "      <td>...</td>\n",
       "      <td>0</td>\n",
       "      <td>0</td>\n",
       "      <td>0</td>\n",
       "      <td>0</td>\n",
       "      <td>0</td>\n",
       "      <td>0</td>\n",
       "      <td>0</td>\n",
       "      <td>0</td>\n",
       "      <td>0</td>\n",
       "      <td>0</td>\n",
       "    </tr>\n",
       "    <tr>\n",
       "      <th>66704</th>\n",
       "      <td>66705</td>\n",
       "      <td>39</td>\n",
       "      <td>1</td>\n",
       "      <td>1</td>\n",
       "      <td>28306.0</td>\n",
       "      <td>256</td>\n",
       "      <td>0</td>\n",
       "      <td>1</td>\n",
       "      <td>0</td>\n",
       "      <td>0</td>\n",
       "      <td>...</td>\n",
       "      <td>0</td>\n",
       "      <td>0</td>\n",
       "      <td>0</td>\n",
       "      <td>0</td>\n",
       "      <td>0</td>\n",
       "      <td>0</td>\n",
       "      <td>0</td>\n",
       "      <td>0</td>\n",
       "      <td>0</td>\n",
       "      <td>0</td>\n",
       "    </tr>\n",
       "    <tr>\n",
       "      <th>204554</th>\n",
       "      <td>204555</td>\n",
       "      <td>28</td>\n",
       "      <td>1</td>\n",
       "      <td>1</td>\n",
       "      <td>81022.0</td>\n",
       "      <td>263</td>\n",
       "      <td>0</td>\n",
       "      <td>1</td>\n",
       "      <td>0</td>\n",
       "      <td>0</td>\n",
       "      <td>...</td>\n",
       "      <td>1</td>\n",
       "      <td>0</td>\n",
       "      <td>0</td>\n",
       "      <td>0</td>\n",
       "      <td>0</td>\n",
       "      <td>0</td>\n",
       "      <td>0</td>\n",
       "      <td>0</td>\n",
       "      <td>0</td>\n",
       "      <td>0</td>\n",
       "    </tr>\n",
       "    <tr>\n",
       "      <th>203237</th>\n",
       "      <td>203238</td>\n",
       "      <td>26</td>\n",
       "      <td>1</td>\n",
       "      <td>0</td>\n",
       "      <td>2630.0</td>\n",
       "      <td>41</td>\n",
       "      <td>0</td>\n",
       "      <td>1</td>\n",
       "      <td>0</td>\n",
       "      <td>0</td>\n",
       "      <td>...</td>\n",
       "      <td>0</td>\n",
       "      <td>0</td>\n",
       "      <td>0</td>\n",
       "      <td>0</td>\n",
       "      <td>0</td>\n",
       "      <td>0</td>\n",
       "      <td>1</td>\n",
       "      <td>0</td>\n",
       "      <td>0</td>\n",
       "      <td>0</td>\n",
       "    </tr>\n",
       "    <tr>\n",
       "      <th>321172</th>\n",
       "      <td>321173</td>\n",
       "      <td>67</td>\n",
       "      <td>1</td>\n",
       "      <td>0</td>\n",
       "      <td>2630.0</td>\n",
       "      <td>160</td>\n",
       "      <td>0</td>\n",
       "      <td>1</td>\n",
       "      <td>0</td>\n",
       "      <td>0</td>\n",
       "      <td>...</td>\n",
       "      <td>0</td>\n",
       "      <td>0</td>\n",
       "      <td>0</td>\n",
       "      <td>0</td>\n",
       "      <td>1</td>\n",
       "      <td>0</td>\n",
       "      <td>0</td>\n",
       "      <td>0</td>\n",
       "      <td>0</td>\n",
       "      <td>0</td>\n",
       "    </tr>\n",
       "  </tbody>\n",
       "</table>\n",
       "<p>5 rows × 217 columns</p>\n",
       "</div>"
      ],
      "text/plain": [
       "            id  Age  Driving_License  Previously_Insured  Annual_Premium  \\\n",
       "27139    27140   58                1                   1         31390.0   \n",
       "66704    66705   39                1                   1         28306.0   \n",
       "204554  204555   28                1                   1         81022.0   \n",
       "203237  203238   26                1                   0          2630.0   \n",
       "321172  321173   67                1                   0          2630.0   \n",
       "\n",
       "        Vintage  Response  Gender_Male  Region_Code_1.0  Region_Code_2.0  ...  \\\n",
       "27139       101         0            1                0                0  ...   \n",
       "66704       256         0            1                0                0  ...   \n",
       "204554      263         0            1                0                0  ...   \n",
       "203237       41         0            1                0                0  ...   \n",
       "321172      160         0            1                0                0  ...   \n",
       "\n",
       "        Policy_Sales_Channel_152.0  Policy_Sales_Channel_153.0  \\\n",
       "27139                            0                           0   \n",
       "66704                            0                           0   \n",
       "204554                           1                           0   \n",
       "203237                           0                           0   \n",
       "321172                           0                           0   \n",
       "\n",
       "        Policy_Sales_Channel_154.0  Policy_Sales_Channel_155.0  \\\n",
       "27139                            0                           0   \n",
       "66704                            0                           0   \n",
       "204554                           0                           0   \n",
       "203237                           0                           0   \n",
       "321172                           0                           0   \n",
       "\n",
       "        Policy_Sales_Channel_156.0  Policy_Sales_Channel_157.0  \\\n",
       "27139                            0                           0   \n",
       "66704                            0                           0   \n",
       "204554                           0                           0   \n",
       "203237                           0                           0   \n",
       "321172                           1                           0   \n",
       "\n",
       "        Policy_Sales_Channel_158.0  Policy_Sales_Channel_159.0  \\\n",
       "27139                            0                           0   \n",
       "66704                            0                           0   \n",
       "204554                           0                           0   \n",
       "203237                           1                           0   \n",
       "321172                           0                           0   \n",
       "\n",
       "        Policy_Sales_Channel_160.0  Policy_Sales_Channel_163.0  \n",
       "27139                            0                           0  \n",
       "66704                            0                           0  \n",
       "204554                           0                           0  \n",
       "203237                           0                           0  \n",
       "321172                           0                           0  \n",
       "\n",
       "[5 rows x 217 columns]"
      ]
     },
     "execution_count": 8,
     "metadata": {},
     "output_type": "execute_result"
    }
   ],
   "source": [
    "val.head()"
   ]
  },
  {
   "cell_type": "code",
   "execution_count": 9,
   "id": "smooth-dodge",
   "metadata": {},
   "outputs": [
    {
     "name": "stdout",
     "output_type": "stream",
     "text": [
      "Train\n",
      "0.12281732912105404\n",
      "Val\n",
      "0.15225263047414134\n"
     ]
    }
   ],
   "source": [
    "# Check the distributions of positive class in both train and test dataset\n",
    "print(\"Train\")\n",
    "print(len(tr[tr['Response']==1])/len(tr)) \n",
    "print(\"Val\")\n",
    "print(len(val[val['Response']==1])/len(te))"
   ]
  },
  {
   "cell_type": "code",
   "execution_count": 10,
   "id": "naked-sleeve",
   "metadata": {},
   "outputs": [
    {
     "name": "stderr",
     "output_type": "stream",
     "text": [
      "<ipython-input-10-1d05cf10ae30>:3: SettingWithCopyWarning: \n",
      "A value is trying to be set on a copy of a slice from a DataFrame.\n",
      "Try using .loc[row_indexer,col_indexer] = value instead\n",
      "\n",
      "See the caveats in the documentation: https://pandas.pydata.org/pandas-docs/stable/user_guide/indexing.html#returning-a-view-versus-a-copy\n",
      "  tr[['Age','Annual_Premium','Vintage']] = scaler.fit_transform(tr[['Age','Annual_Premium','Vintage']])\n",
      "C:\\Users\\Andrew\\anaconda3\\lib\\site-packages\\pandas\\core\\indexing.py:1736: SettingWithCopyWarning: \n",
      "A value is trying to be set on a copy of a slice from a DataFrame.\n",
      "Try using .loc[row_indexer,col_indexer] = value instead\n",
      "\n",
      "See the caveats in the documentation: https://pandas.pydata.org/pandas-docs/stable/user_guide/indexing.html#returning-a-view-versus-a-copy\n",
      "  isetter(loc, value[:, i].tolist())\n",
      "<ipython-input-10-1d05cf10ae30>:4: SettingWithCopyWarning: \n",
      "A value is trying to be set on a copy of a slice from a DataFrame.\n",
      "Try using .loc[row_indexer,col_indexer] = value instead\n",
      "\n",
      "See the caveats in the documentation: https://pandas.pydata.org/pandas-docs/stable/user_guide/indexing.html#returning-a-view-versus-a-copy\n",
      "  val[['Age','Annual_Premium','Vintage']] = scaler.transform(val[['Age','Annual_Premium','Vintage']])\n",
      "C:\\Users\\Andrew\\anaconda3\\lib\\site-packages\\pandas\\core\\indexing.py:1736: SettingWithCopyWarning: \n",
      "A value is trying to be set on a copy of a slice from a DataFrame.\n",
      "Try using .loc[row_indexer,col_indexer] = value instead\n",
      "\n",
      "See the caveats in the documentation: https://pandas.pydata.org/pandas-docs/stable/user_guide/indexing.html#returning-a-view-versus-a-copy\n",
      "  isetter(loc, value[:, i].tolist())\n"
     ]
    }
   ],
   "source": [
    "# Scale Features \n",
    "scaler = StandardScaler()\n",
    "tr[['Age','Annual_Premium','Vintage']] = scaler.fit_transform(tr[['Age','Annual_Premium','Vintage']])\n",
    "val[['Age','Annual_Premium','Vintage']] = scaler.transform(val[['Age','Annual_Premium','Vintage']])"
   ]
  },
  {
   "cell_type": "code",
   "execution_count": 11,
   "id": "suitable-basket",
   "metadata": {},
   "outputs": [],
   "source": [
    "# Logistic regression\n",
    "logit = LogisticRegression(random_state=42, solver='lbfgs',max_iter=1000)\n",
    "\n",
    "# Rundom Under Sampling (RUS)\n",
    "tr_x_rus, tr_y_rus = rus.fit_resample(tr.drop(['Response'],1),tr.Response)\n",
    "logit_rus = logit.fit(tr_x_rus,tr_y_rus)\n",
    "\n",
    "# RUSBagging\n",
    "bc = BalancedBaggingClassifier(base_estimator=logit,random_state=42)\n",
    "logit_bc = bc.fit(tr.drop(['Response'],1),tr.Response)"
   ]
  },
  {
   "cell_type": "code",
   "execution_count": 12,
   "id": "literary-stone",
   "metadata": {},
   "outputs": [],
   "source": [
    "# BMR (Bayes Minimum Risk) calibration implementation\n",
    "# Pozzolo et al., 2015, Calibrating Probability with Undersampling\n",
    "\n",
    "class BMR:\n",
    "    def beta(binary_target):\n",
    "        return binary_target.sum()/np.where(binary_target==0,1,0).sum()\n",
    "\n",
    "    def tau(binary_target):\n",
    "        return binary_target.sum()/len(binary_target)\n",
    "        \n",
    "    def calibration(prob, beta):\n",
    "        return prob/(prob+(1-prob)/beta)"
   ]
  },
  {
   "cell_type": "code",
   "execution_count": 13,
   "id": "revised-transfer",
   "metadata": {},
   "outputs": [],
   "source": [
    "# Calibration\n",
    "beta = BMR.beta(tr.Response)\n",
    "tau = BMR.tau(tr.Response)\n",
    "# with rundom undersampling\n",
    "y_pred_calib_rus = BMR.calibration(prob=logit_rus.predict_proba(val.drop(['Response'],1))[:,1],beta=beta)\n",
    "y_predicted_calib_rus = np.where(y_pred_calib_rus>=.99,1,0)\n",
    "# with RUSBagging\n",
    "y_pred_calib_bc = BMR.calibration(prob=logit_bc.predict_proba(val.drop(['Response'],1))[:,1],beta=beta)\n",
    "y_predicted_calib_bc = np.where(y_pred_calib_bc>=tau,1,0)"
   ]
  },
  {
   "cell_type": "code",
   "execution_count": 14,
   "id": "continental-irrigation",
   "metadata": {},
   "outputs": [
    {
     "name": "stderr",
     "output_type": "stream",
     "text": [
      "C:\\Users\\Andrew\\anaconda3\\lib\\site-packages\\sklearn\\metrics\\_classification.py:1221: UndefinedMetricWarning: Precision is ill-defined and being set to 0.0 due to no predicted samples. Use `zero_division` parameter to control this behavior.\n",
      "  _warn_prf(average, modifier, msg_start, len(result))\n"
     ]
    },
    {
     "name": "stdout",
     "output_type": "stream",
     "text": [
      "F1-score: 0.0 \n",
      "Precision: 0.0 \n",
      "Recall: 0.0 \n",
      "Log loss: 4.2069 \n",
      "Cohen-Kappa: 0.0 \n",
      "Confusion matrix:\n",
      "[[83673     0]\n",
      " [11605     0]]\n",
      "F1-score: 0.3772 \n",
      "Precision: 0.2427 \n",
      "Recall: 0.8459 \n",
      "Log loss: 11.752 \n",
      "Cohen-Kappa: 0.2318 \n",
      "Confusion matrix:\n",
      "[[53043 30630]\n",
      " [ 1788  9817]]\n"
     ]
    },
    {
     "name": "stderr",
     "output_type": "stream",
     "text": [
      "C:\\Users\\Andrew\\anaconda3\\lib\\site-packages\\sklearn\\metrics\\_classification.py:1221: UndefinedMetricWarning: Precision is ill-defined and being set to 0.0 due to no predicted samples. Use `zero_division` parameter to control this behavior.\n",
      "  _warn_prf(average, modifier, msg_start, len(result))\n"
     ]
    },
    {
     "name": "stdout",
     "output_type": "stream",
     "text": [
      "F1-score: 0.0 \n",
      "Precision: 0.0 \n",
      "Recall: 0.0 \n",
      "Log loss: 4.2069 \n",
      "Cohen-Kappa: 0.0 \n",
      "Confusion matrix:\n",
      "[[83673     0]\n",
      " [11605     0]]\n",
      "F1-score: 0.3772 \n",
      "Precision: 0.2427 \n",
      "Recall: 0.8459 \n",
      "Log loss: 11.752 \n",
      "Cohen-Kappa: 0.2318 \n",
      "Confusion matrix:\n",
      "[[53043 30630]\n",
      " [ 1788  9817]]\n"
     ]
    }
   ],
   "source": [
    "# Evaluation\n",
    "#Random Under Sampling (RUS)\n",
    "y_pred_rus, y_predicted_rus = make_prediction(model=logit_rus, X=val.drop(['Response'],1), threshold=.5)\n",
    "evaluation(val.Response, y_predicted_rus)\n",
    "\n",
    "## RUSBagging\n",
    "y_pred_bc, y_predicted_bc = make_prediction(model=logit_bc, X=val.drop(['Response'],1), threshold=.5)\n",
    "evaluation(val.Response, y_predicted_bc)\n",
    "\n",
    "## Calibration with Rundom undersampling\n",
    "evaluation(val.Response, y_predicted_calib_rus)\n",
    "\n",
    "## Calibration with RUSBoost\n",
    "evaluation(val.Response, y_predicted_calib_bc)"
   ]
  },
  {
   "cell_type": "markdown",
   "id": "appreciated-basket",
   "metadata": {},
   "source": [
    "### Trying Random Forest with Random Undersampling"
   ]
  },
  {
   "cell_type": "code",
   "execution_count": 27,
   "id": "upset-tumor",
   "metadata": {},
   "outputs": [],
   "source": [
    "# Seperate features from label\n",
    "\n",
    "X = df_train.drop(columns=['Response'])\n",
    "\n",
    "y = df_train['Response']"
   ]
  },
  {
   "cell_type": "code",
   "execution_count": 28,
   "id": "victorian-vector",
   "metadata": {},
   "outputs": [],
   "source": [
    "# Get dummy varialbes\n",
    "X = pd.get_dummies(X,columns = ['Gender','Region_Code','Vehicle_Age','Vehicle_Damage','Policy_Sales_Channel'],drop_first=True)"
   ]
  },
  {
   "cell_type": "code",
   "execution_count": 29,
   "id": "minimal-usage",
   "metadata": {},
   "outputs": [],
   "source": [
    "# #Split data into 3: 60% train, 20% validation, 20% test\n",
    "X_train, X_test, y_train, y_test = train_test_split(X, y, test_size=0.2, stratify=y)\n",
    "X_train, X_val, y_train, y_val = train_test_split(X_train, y_train, test_size=0.25,stratify=y_train)"
   ]
  },
  {
   "cell_type": "code",
   "execution_count": 30,
   "id": "artificial-irish",
   "metadata": {},
   "outputs": [],
   "source": [
    "model = BalancedRandomForestClassifier(n_estimators=10)"
   ]
  },
  {
   "cell_type": "code",
   "execution_count": 31,
   "id": "acquired-proposition",
   "metadata": {},
   "outputs": [
    {
     "name": "stdout",
     "output_type": "stream",
     "text": [
      "Scores for the logisitc regression\n",
      "Training score:  78.66%\n",
      "Test set score:  72.77%\n",
      "\n",
      "Precision / Recall\n",
      "Val F1 score:  42.27%\n",
      "Val F2 score:  59.39%\n",
      "Precision:  28.55%\n",
      "Recall:  81.36%\n"
     ]
    }
   ],
   "source": [
    "# run model\n",
    "model.fit(X_train, y_train)\n",
    "y_predict = model.predict(X_val)\n",
    "\n",
    "#scores\n",
    "print(\"Scores for the random forest\")\n",
    "print(\"Training score: {:6.2f}%\".format(100*model.score(X_train, y_train)))\n",
    "print(\"Test set score: {:6.2f}%\".format(100*model.score(X_val, y_val)))\n",
    "\n",
    "#precision/recall\n",
    "print(\"\\nPrecision / Recall\")\n",
    "print(\"Val F1 score: {:6.2f}%\".format(100*f1_score(y_predict, y_val)))\n",
    "print(\"Val F2 score: {:6.2f}%\".format(100*fbeta_score(y_predict, y_val,beta=0.5)))\n",
    "print(\"Precision: {:6.2f}%\".format(100*precision_score(y_val, y_predict)))\n",
    "print(\"Recall: {:6.2f}%\".format(100*recall_score(y_val, y_predict)))"
   ]
  },
  {
   "cell_type": "code",
   "execution_count": 32,
   "id": "consistent-agenda",
   "metadata": {},
   "outputs": [
    {
     "name": "stdout",
     "output_type": "stream",
     "text": [
      "Scores for the Test categorical nb\n",
      "Test set score:  73.01%\n",
      "\n",
      "Precision / Recall\n",
      "Val F1 score:  42.84%\n",
      "Val F2 score:  60.22%\n",
      "Precision:  28.93%\n",
      "Recall:  82.53%\n"
     ]
    }
   ],
   "source": [
    "# Test Metrics\n",
    "y_predict = model.predict(X_test)\n",
    "print(\"Scores for the random forest\")\n",
    "print(\"Test set score: {:6.2f}%\".format(100*accuracy_score(y_predict, y_test)))\n",
    "\n",
    "#precision/recall\n",
    "print(\"\\nPrecision / Recall\")\n",
    "print(\"Val F1 score: {:6.2f}%\".format(100*f1_score(y_predict, y_test)))\n",
    "print(\"Val F2 score: {:6.2f}%\".format(100*fbeta_score(y_predict, y_test,beta=0.5)))\n",
    "print(\"Precision: {:6.2f}%\".format(100*precision_score(y_test, y_predict)))\n",
    "print(\"Recall: {:6.2f}%\".format(100*recall_score(y_test, y_predict)))"
   ]
  },
  {
   "cell_type": "markdown",
   "id": "meaning-blanket",
   "metadata": {},
   "source": [
    "### Balanced Bagging Classifier"
   ]
  },
  {
   "cell_type": "code",
   "execution_count": 21,
   "id": "linear-attendance",
   "metadata": {},
   "outputs": [],
   "source": [
    "# Seperate features from label\n",
    "\n",
    "X = df_train.drop(columns=['Response'])\n",
    "\n",
    "y = df_train['Response']"
   ]
  },
  {
   "cell_type": "code",
   "execution_count": 22,
   "id": "engaging-survival",
   "metadata": {},
   "outputs": [],
   "source": [
    "# Get dummy varialbes\n",
    "X = pd.get_dummies(X,columns = ['Gender','Region_Code','Vehicle_Age','Vehicle_Damage','Policy_Sales_Channel'],drop_first=True)"
   ]
  },
  {
   "cell_type": "code",
   "execution_count": 23,
   "id": "swiss-start",
   "metadata": {},
   "outputs": [],
   "source": [
    "# #Split data into 3: 60% train, 20% validation, 20% test\n",
    "X_train, X_test, y_train, y_test = train_test_split(X, y, test_size=0.2, stratify=y)\n",
    "X_train, X_val, y_train, y_val = train_test_split(X_train, y_train, test_size=0.25,stratify=y_train)"
   ]
  },
  {
   "cell_type": "code",
   "execution_count": 24,
   "id": "owned-newcastle",
   "metadata": {},
   "outputs": [],
   "source": [
    "# define model\n",
    "model = BalancedBaggingClassifier()"
   ]
  },
  {
   "cell_type": "code",
   "execution_count": 25,
   "id": "phantom-attachment",
   "metadata": {},
   "outputs": [
    {
     "name": "stdout",
     "output_type": "stream",
     "text": [
      "Validation\n",
      "Scores for the logisitc regression\n",
      "Training score:  84.83%\n",
      "Val set score:  76.22%\n",
      "\n",
      "Precision / Recall\n",
      "Val F1 score:  42.25%\n",
      "Val F2 score:  55.81%\n",
      "Precision:  30.08%\n",
      "Recall:  70.98%\n"
     ]
    }
   ],
   "source": [
    "# run model on val\n",
    "model.fit(X_train, y_train)\n",
    "y_predict = model.predict(X_val)\n",
    "print(\"Validation\")\n",
    "#scores\n",
    "print(\"Scores for the logisitc regression\")\n",
    "print(\"Training score: {:6.2f}%\".format(100*model.score(X_train, y_train)))\n",
    "print(\"Val set score: {:6.2f}%\".format(100*model.score(X_val, y_val)))\n",
    "\n",
    "#precision/recall\n",
    "print(\"\\nPrecision / Recall\")\n",
    "print(\"Val F1 score: {:6.2f}%\".format(100*f1_score(y_predict, y_val)))\n",
    "print(\"Val F2 score: {:6.2f}%\".format(100*fbeta_score(y_predict, y_val,beta=0.5)))\n",
    "print(\"Precision: {:6.2f}%\".format(100*precision_score(y_val, y_predict)))\n",
    "print(\"Recall: {:6.2f}%\".format(100*recall_score(y_val, y_predict)))"
   ]
  },
  {
   "cell_type": "code",
   "execution_count": 26,
   "id": "subsequent-mileage",
   "metadata": {},
   "outputs": [
    {
     "name": "stdout",
     "output_type": "stream",
     "text": [
      "Test\n",
      "Scores for the logisitc regression\n",
      "Training score:  84.75%\n",
      "Test set score:  76.30%\n",
      "\n",
      "Precision / Recall\n",
      "Val F1 score:  42.43%\n",
      "Val F2 score:  56.03%\n",
      "Precision:  30.21%\n",
      "Recall:  71.26%\n"
     ]
    }
   ],
   "source": [
    "# run model on test\n",
    "model.fit(X_train, y_train)\n",
    "y_predict = model.predict(X_test)\n",
    "print(\"Test\")\n",
    "#scores\n",
    "print(\"Scores for the logisitc regression\")\n",
    "print(\"Training score: {:6.2f}%\".format(100*model.score(X_train, y_train)))\n",
    "print(\"Test set score: {:6.2f}%\".format(100*model.score(X_test, y_test)))\n",
    "\n",
    "#precision/recall\n",
    "print(\"\\nPrecision / Recall\")\n",
    "print(\"Val F1 score: {:6.2f}%\".format(100*f1_score(y_predict, y_test)))\n",
    "print(\"Val F2 score: {:6.2f}%\".format(100*fbeta_score(y_predict, y_test,beta=0.5)))\n",
    "print(\"Precision: {:6.2f}%\".format(100*precision_score(y_test, y_predict)))\n",
    "print(\"Recall: {:6.2f}%\".format(100*recall_score(y_test, y_predict)))"
   ]
  },
  {
   "cell_type": "code",
   "execution_count": null,
   "id": "pressing-trainer",
   "metadata": {},
   "outputs": [],
   "source": []
  }
 ],
 "metadata": {
  "kernelspec": {
   "display_name": "Python 3",
   "language": "python",
   "name": "python3"
  },
  "language_info": {
   "codemirror_mode": {
    "name": "ipython",
    "version": 3
   },
   "file_extension": ".py",
   "mimetype": "text/x-python",
   "name": "python",
   "nbconvert_exporter": "python",
   "pygments_lexer": "ipython3",
   "version": "3.8.5"
  }
 },
 "nbformat": 4,
 "nbformat_minor": 5
}
